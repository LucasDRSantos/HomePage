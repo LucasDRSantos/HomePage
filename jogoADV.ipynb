{
  "cells": [
    {
      "cell_type": "markdown",
      "metadata": {
        "id": "view-in-github",
        "colab_type": "text"
      },
      "source": [
        "<a href=\"https://colab.research.google.com/github/LucasDRSantos/HomePage/blob/main/jogoADV.ipynb\" target=\"_parent\"><img src=\"https://colab.research.google.com/assets/colab-badge.svg\" alt=\"Open In Colab\"/></a>"
      ]
    },
    {
      "cell_type": "code",
      "execution_count": null,
      "metadata": {
        "colab": {
          "base_uri": "https://localhost:8080/"
        },
        "id": "r4pUhCIfaKKz",
        "outputId": "a6f1bb9d-0201-4804-a5ea-387b8ab7adb6"
      },
      "outputs": [
        {
          "output_type": "stream",
          "name": "stdout",
          "text": [
            "#### QUE COMECEM OS JOGOS (◣◢) !!! ####\n",
            "\n",
            "Palpite gerado!\n",
            "Qual seu chute: 50\n",
            "(◣◢) HAHAHA você errou!!! Dica: É um número menor que 50 voce ainda tem 9 tentativas\n",
            "Qual seu chute: 40\n",
            "(◣◢) HAHAHA você errou!!! Dica: É um número maior que  40 voce ainda tem 8\n",
            "Qual seu chute: 45\n",
            "PARABENS CAMPEÃO VOCE VENCEU! numero sorteado foi 45 ainda sobraram  7  tentativas!\n",
            "\n",
            "{'maiores': [50], 'igual': [45], 'menores': [40]}\n"
          ]
        }
      ],
      "source": [
        "print('#### QUE COMECEM OS JOGOS (◣◢) !!! ####')\n",
        "import random\n",
        "dic_jogo={\n",
        "        'maiores' : [],\n",
        "        'igual' : [],\n",
        "        'menores':[]    \n",
        "    }\n",
        "\n",
        "def valor():\n",
        "    return random.randint(1,100)\n",
        "def jogo():\n",
        "    resposta = valor()\n",
        "    tentativa = 10\n",
        "    print(\"\\nPalpite gerado!\")\n",
        "    chute=0\n",
        "    \n",
        "    while chute is not resposta:\n",
        "        tentativa=tentativa-1\n",
        "        chute = int(input(\"Qual seu chute: \"))\n",
        "        if chute > resposta:\n",
        "            print(\"(◣◢) HAHAHA você errou!!! Dica: É um número menor que\",chute, \"voce ainda tem\",tentativa,\"tentativas\" )\n",
        "            dic_jogo[\"maiores\"].append(chute)\n",
        "        elif chute < resposta:\n",
        "            print(\"(◣◢) HAHAHA você errou!!! Dica: É um número maior que \",chute,\"voce ainda tem\", tentativa)\n",
        "            dic_jogo[\"menores\"].append(chute)  \n",
        "        else:\n",
        "            print(\"PARABENS CAMPEÃO VOCE VENCEU! numero sorteado foi\",resposta, \\\n",
        "                  \"ainda sobraram \",tentativa,\" tentativas!\")\n",
        "            dic_jogo[\"igual\"].append(chute)\n",
        "            print('')\n",
        "            print(dic_jogo)\n",
        "        if tentativa == 0: \n",
        "            print('HAHAHA Suas tentativas acabaram, GAME OVER PRA VOCE (◣◢)')\n",
        "            break\n",
        "\n",
        "\n",
        "\n",
        "while True:\n",
        "  jogo()\n",
        "\n",
        "  break\n",
        "\n"
      ]
    },
    {
      "cell_type": "code",
      "source": [
        "import pandas as pd\n",
        "\n",
        "df = pd.DataFrame (dic_jogo)\n",
        "\n",
        "df"
      ],
      "metadata": {
        "colab": {
          "base_uri": "https://localhost:8080/",
          "height": 81
        },
        "id": "0VLv6ZamMTyT",
        "outputId": "bb218a57-97a1-4401-9289-766148cbce00"
      },
      "execution_count": null,
      "outputs": [
        {
          "output_type": "execute_result",
          "data": {
            "text/plain": [
              "   maiores  igual  menores\n",
              "0       50     45       40"
            ],
            "text/html": [
              "\n",
              "  <div id=\"df-99d5c4ba-4aab-4e6e-bee4-69f03e10dae6\">\n",
              "    <div class=\"colab-df-container\">\n",
              "      <div>\n",
              "<style scoped>\n",
              "    .dataframe tbody tr th:only-of-type {\n",
              "        vertical-align: middle;\n",
              "    }\n",
              "\n",
              "    .dataframe tbody tr th {\n",
              "        vertical-align: top;\n",
              "    }\n",
              "\n",
              "    .dataframe thead th {\n",
              "        text-align: right;\n",
              "    }\n",
              "</style>\n",
              "<table border=\"1\" class=\"dataframe\">\n",
              "  <thead>\n",
              "    <tr style=\"text-align: right;\">\n",
              "      <th></th>\n",
              "      <th>maiores</th>\n",
              "      <th>igual</th>\n",
              "      <th>menores</th>\n",
              "    </tr>\n",
              "  </thead>\n",
              "  <tbody>\n",
              "    <tr>\n",
              "      <th>0</th>\n",
              "      <td>50</td>\n",
              "      <td>45</td>\n",
              "      <td>40</td>\n",
              "    </tr>\n",
              "  </tbody>\n",
              "</table>\n",
              "</div>\n",
              "      <button class=\"colab-df-convert\" onclick=\"convertToInteractive('df-99d5c4ba-4aab-4e6e-bee4-69f03e10dae6')\"\n",
              "              title=\"Convert this dataframe to an interactive table.\"\n",
              "              style=\"display:none;\">\n",
              "        \n",
              "  <svg xmlns=\"http://www.w3.org/2000/svg\" height=\"24px\"viewBox=\"0 0 24 24\"\n",
              "       width=\"24px\">\n",
              "    <path d=\"M0 0h24v24H0V0z\" fill=\"none\"/>\n",
              "    <path d=\"M18.56 5.44l.94 2.06.94-2.06 2.06-.94-2.06-.94-.94-2.06-.94 2.06-2.06.94zm-11 1L8.5 8.5l.94-2.06 2.06-.94-2.06-.94L8.5 2.5l-.94 2.06-2.06.94zm10 10l.94 2.06.94-2.06 2.06-.94-2.06-.94-.94-2.06-.94 2.06-2.06.94z\"/><path d=\"M17.41 7.96l-1.37-1.37c-.4-.4-.92-.59-1.43-.59-.52 0-1.04.2-1.43.59L10.3 9.45l-7.72 7.72c-.78.78-.78 2.05 0 2.83L4 21.41c.39.39.9.59 1.41.59.51 0 1.02-.2 1.41-.59l7.78-7.78 2.81-2.81c.8-.78.8-2.07 0-2.86zM5.41 20L4 18.59l7.72-7.72 1.47 1.35L5.41 20z\"/>\n",
              "  </svg>\n",
              "      </button>\n",
              "      \n",
              "  <style>\n",
              "    .colab-df-container {\n",
              "      display:flex;\n",
              "      flex-wrap:wrap;\n",
              "      gap: 12px;\n",
              "    }\n",
              "\n",
              "    .colab-df-convert {\n",
              "      background-color: #E8F0FE;\n",
              "      border: none;\n",
              "      border-radius: 50%;\n",
              "      cursor: pointer;\n",
              "      display: none;\n",
              "      fill: #1967D2;\n",
              "      height: 32px;\n",
              "      padding: 0 0 0 0;\n",
              "      width: 32px;\n",
              "    }\n",
              "\n",
              "    .colab-df-convert:hover {\n",
              "      background-color: #E2EBFA;\n",
              "      box-shadow: 0px 1px 2px rgba(60, 64, 67, 0.3), 0px 1px 3px 1px rgba(60, 64, 67, 0.15);\n",
              "      fill: #174EA6;\n",
              "    }\n",
              "\n",
              "    [theme=dark] .colab-df-convert {\n",
              "      background-color: #3B4455;\n",
              "      fill: #D2E3FC;\n",
              "    }\n",
              "\n",
              "    [theme=dark] .colab-df-convert:hover {\n",
              "      background-color: #434B5C;\n",
              "      box-shadow: 0px 1px 3px 1px rgba(0, 0, 0, 0.15);\n",
              "      filter: drop-shadow(0px 1px 2px rgba(0, 0, 0, 0.3));\n",
              "      fill: #FFFFFF;\n",
              "    }\n",
              "  </style>\n",
              "\n",
              "      <script>\n",
              "        const buttonEl =\n",
              "          document.querySelector('#df-99d5c4ba-4aab-4e6e-bee4-69f03e10dae6 button.colab-df-convert');\n",
              "        buttonEl.style.display =\n",
              "          google.colab.kernel.accessAllowed ? 'block' : 'none';\n",
              "\n",
              "        async function convertToInteractive(key) {\n",
              "          const element = document.querySelector('#df-99d5c4ba-4aab-4e6e-bee4-69f03e10dae6');\n",
              "          const dataTable =\n",
              "            await google.colab.kernel.invokeFunction('convertToInteractive',\n",
              "                                                     [key], {});\n",
              "          if (!dataTable) return;\n",
              "\n",
              "          const docLinkHtml = 'Like what you see? Visit the ' +\n",
              "            '<a target=\"_blank\" href=https://colab.research.google.com/notebooks/data_table.ipynb>data table notebook</a>'\n",
              "            + ' to learn more about interactive tables.';\n",
              "          element.innerHTML = '';\n",
              "          dataTable['output_type'] = 'display_data';\n",
              "          await google.colab.output.renderOutput(dataTable, element);\n",
              "          const docLink = document.createElement('div');\n",
              "          docLink.innerHTML = docLinkHtml;\n",
              "          element.appendChild(docLink);\n",
              "        }\n",
              "      </script>\n",
              "    </div>\n",
              "  </div>\n",
              "  "
            ]
          },
          "metadata": {},
          "execution_count": 92
        }
      ]
    }
  ],
  "metadata": {
    "colab": {
      "collapsed_sections": [],
      "name": "jogoADV",
      "provenance": [],
      "authorship_tag": "ABX9TyO6pudgsvCtVP1c7Nv05a/H",
      "include_colab_link": true
    },
    "kernelspec": {
      "display_name": "Python 3",
      "name": "python3"
    },
    "language_info": {
      "name": "python"
    }
  },
  "nbformat": 4,
  "nbformat_minor": 0
}